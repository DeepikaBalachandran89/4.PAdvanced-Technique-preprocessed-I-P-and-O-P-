{
 "cells": [
  {
   "cell_type": "code",
   "execution_count": 1,
   "id": "8a46504b",
   "metadata": {},
   "outputs": [],
   "source": [
    "import pandas as pd#Tables,File read,Database All functions pandas used.\n",
    "dataset=pd.read_csv(\"50_Startups.csv\")#dataset is to read the salary data\n",
    "dataset=pd.get_dummies(dataset,drop_first=True,dtype=int)\n",
    "independent=dataset[['R&D Spend', 'Administration', 'Marketing Spend', 'State_Florida','State_New York']]\n",
    "dependent=dataset[['Profit']]#profit is output"
   ]
  },
  {
   "cell_type": "code",
   "execution_count": 2,
   "id": "908ac288",
   "metadata": {},
   "outputs": [],
   "source": [
    "#split train and test\n",
    "from sklearn.model_selection import train_test_split\n",
    "X_train,X_test,y_train,y_test=train_test_split(independent, dependent, test_size=0.30,random_state=0)\n",
    "\n",
    "#Standardisation Value goin to apply in Model(Because Linear Accuracy Valu POOR)\n",
    "from sklearn.preprocessing import StandardScaler  #proceedure\n",
    "sc=StandardScaler()\n",
    "X_train=sc.fit_transform(X_train) # Standardisation Formula (mean/standard deviation)\n",
    "X_test=sc.transform(X_test)#  same formula here also taken\n",
    "\n",
    "\n",
    "scy=StandardScaler()\n",
    "y_train=scy.fit_transform(y_train) # Standardisation Formula (mean/standard deviation)\n",
    "y_test=scy.transform(y_test)#  same formula here also taken"
   ]
  },
  {
   "cell_type": "code",
   "execution_count": 3,
   "id": "2ee5ad35",
   "metadata": {},
   "outputs": [],
   "source": [
    "import pickle\n",
    "filename=\"finalised_model_svr.sav\""
   ]
  },
  {
   "cell_type": "code",
   "execution_count": 4,
   "id": "1cbe3771",
   "metadata": {},
   "outputs": [
    {
     "name": "stderr",
     "output_type": "stream",
     "text": [
      "C:\\Users\\Lenovo\\anaconda3\\Lib\\site-packages\\sklearn\\base.py:464: UserWarning: X does not have valid feature names, but StandardScaler was fitted with feature names\n",
      "  warnings.warn(\n"
     ]
    },
    {
     "data": {
      "text/plain": [
       "array([[-1.42053535, -4.7133456 , -1.50313635, -0.5       ,  1.30088727]])"
      ]
     },
     "execution_count": 4,
     "metadata": {},
     "output_type": "execute_result"
    }
   ],
   "source": [
    "preinput=sc.transform([[3594,2340,4562,0,1]])\n",
    "preinput"
   ]
  },
  {
   "cell_type": "code",
   "execution_count": 5,
   "id": "256c5b71",
   "metadata": {},
   "outputs": [],
   "source": [
    "loaded_model=pickle.load(open(\"finalised_model_svr.sav\",'rb'))\n",
    "result=loaded_model.predict(preinput)"
   ]
  },
  {
   "cell_type": "code",
   "execution_count": 6,
   "id": "438efbfc",
   "metadata": {},
   "outputs": [
    {
     "data": {
      "text/plain": [
       "array([-1.45282671])"
      ]
     },
     "execution_count": 6,
     "metadata": {},
     "output_type": "execute_result"
    }
   ],
   "source": [
    "result"
   ]
  },
  {
   "cell_type": "code",
   "execution_count": 7,
   "id": "f71bbe1e",
   "metadata": {},
   "outputs": [],
   "source": [
    "preoutput=scy.inverse_transform([result])"
   ]
  },
  {
   "cell_type": "code",
   "execution_count": 8,
   "id": "540d3587",
   "metadata": {},
   "outputs": [
    {
     "data": {
      "text/plain": [
       "array([[47735.23141808]])"
      ]
     },
     "execution_count": 8,
     "metadata": {},
     "output_type": "execute_result"
    }
   ],
   "source": [
    "preoutput"
   ]
  },
  {
   "cell_type": "code",
   "execution_count": null,
   "id": "83d2d886",
   "metadata": {},
   "outputs": [],
   "source": []
  }
 ],
 "metadata": {
  "kernelspec": {
   "display_name": "Python 3 (ipykernel)",
   "language": "python",
   "name": "python3"
  },
  "language_info": {
   "codemirror_mode": {
    "name": "ipython",
    "version": 3
   },
   "file_extension": ".py",
   "mimetype": "text/x-python",
   "name": "python",
   "nbconvert_exporter": "python",
   "pygments_lexer": "ipython3",
   "version": "3.11.5"
  }
 },
 "nbformat": 4,
 "nbformat_minor": 5
}
